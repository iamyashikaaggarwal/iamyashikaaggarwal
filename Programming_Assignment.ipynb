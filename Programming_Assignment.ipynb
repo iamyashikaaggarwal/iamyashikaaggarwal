{
  "cells": [
    {
      "cell_type": "markdown",
      "source": [
        "#Table of Content\n",
        "##1. Business Background & Objective\n",
        "##2. Data Collection: Importing Libraries and Reading Dataset\n",
        "##3. Data Preparation: Data Cleaning\n",
        "##4. Pipeline-based workflow\n",
        "*   Data Preparation: Data Pre-processing and Transforming the data.\n",
        "*   Model Selection: Using Stacking Model with 3 Base models and a meta regressor model.\n",
        "*   Training the Data: fitting the model to the training data.\n",
        "\n",
        "##5. Model Evaluation\n",
        "*   Evaluating the accuracy score using the score method.\n",
        "*   Making predictions on test dataset.\n",
        "*   Evaluating the accuracy of the model using R2, MAE, MSE, RMSE, and MAPE metrics.\n",
        "*   Cross-Validation Evaluation Techniques - K-fold, Leave-one-out, and Shuffle Split methods.\n",
        "\n",
        "##6. Hyperparameter Tuning using GridSearch Cross Validation Method with Pipeline\n",
        "##7. Business Deployment.\n",
        "\n"
      ],
      "metadata": {
        "id": "pzaZbi4fdsUd"
      },
      "id": "pzaZbi4fdsUd"
    },
    {
      "cell_type": "markdown",
      "source": [
        "##1. Business Background & Objective\n",
        "####Business Background: IMAY Manufacturing Co. is a well-established organization that specializes in the manufacturing of War board games. The company has been manufacturing various war board games for 30 years, and its games perceived well among the gaming community. \n",
        "\n",
        "####Business Objective: The company is planning to develop/manufacture a new War board game, and before they initiate the development, they want to know the BGG ranking aka the popularity of the game.\n",
        "\n",
        "Determining the BGG ranking of the game before development can provide the company with an idea about the popularity and acceptance of the game by the gaming community. So, if the game is expected to have a high BGG ranking, it would mean that the game has a good chance of being successful in the market, and the company can go ahead with development of the game."
      ],
      "metadata": {
        "id": "hLB6kE-0zu9R"
      },
      "id": "hLB6kE-0zu9R"
    },
    {
      "cell_type": "markdown",
      "source": [
        "##2. Data Collection: Importing Libraries and Reading the CSV dataset"
      ],
      "metadata": {
        "id": "CxvPVo24dsAU"
      },
      "id": "CxvPVo24dsAU"
    },
    {
      "cell_type": "markdown",
      "source": [
        "Importing necessary libraries to read dataset, including pandas, seaborn, numpy."
      ],
      "metadata": {
        "id": "UBKj98wnjdj4"
      },
      "id": "UBKj98wnjdj4"
    },
    {
      "cell_type": "code",
      "execution_count": 1,
      "metadata": {
        "id": "MTAv3IYHLgtK"
      },
      "outputs": [],
      "source": [
        "import pandas as pd\n",
        "import seaborn as sns\n",
        "import numpy as np"
      ],
      "id": "MTAv3IYHLgtK"
    },
    {
      "cell_type": "markdown",
      "source": [
        "Reading dataset from War Domain CSV file and storing it in Pandas DataFrame df_game. "
      ],
      "metadata": {
        "id": "7NalWcrHg327"
      },
      "id": "7NalWcrHg327"
    },
    {
      "cell_type": "code",
      "execution_count": 2,
      "metadata": {
        "id": "VpJfy41uLiBH"
      },
      "outputs": [],
      "source": [
        "df_game = pd.read_csv('War.csv', na_values='NA') #No need to add index_col=0 as ID of games are more than just a serial number, and we will be dropping that column later on"
      ],
      "id": "VpJfy41uLiBH"
    },
    {
      "cell_type": "markdown",
      "source": [
        "##3. Data Preparation: Data Cleaning"
      ],
      "metadata": {
        "id": "OQu1CfVdntlN"
      },
      "id": "OQu1CfVdntlN"
    },
    {
      "cell_type": "markdown",
      "source": [
        "Check the datatypes of the columns, so that it can be cleaned appropriately."
      ],
      "metadata": {
        "id": "azrAzDEtko--"
      },
      "id": "azrAzDEtko--"
    },
    {
      "cell_type": "code",
      "source": [
        "df_game.info() #Displays the basic information about the War Game DataFrame like column names, number of non-null values, and data types."
      ],
      "metadata": {
        "colab": {
          "base_uri": "https://localhost:8080/"
        },
        "id": "bm6gpqPljyW2",
        "outputId": "560faeb3-f122-4b85-d7ff-ede6ca256c50"
      },
      "id": "bm6gpqPljyW2",
      "execution_count": 3,
      "outputs": [
        {
          "output_type": "stream",
          "name": "stdout",
          "text": [
            "<class 'pandas.core.frame.DataFrame'>\n",
            "RangeIndex: 3029 entries, 0 to 3028\n",
            "Data columns (total 14 columns):\n",
            " #   Column             Non-Null Count  Dtype  \n",
            "---  ------             --------------  -----  \n",
            " 0   ID                 3029 non-null   int64  \n",
            " 1   Name               3029 non-null   object \n",
            " 2   YearPublished      3020 non-null   float64\n",
            " 3   MinPlayers         3029 non-null   int64  \n",
            " 4   MaxPlayers         3029 non-null   int64  \n",
            " 5   PlayTime           3012 non-null   float64\n",
            " 6   MinAge             3029 non-null   int64  \n",
            " 7   UsersRated         3029 non-null   int64  \n",
            " 8   RatingAverage      2800 non-null   object \n",
            " 9   BGGRank            3029 non-null   int64  \n",
            " 10  ComplexityAverage  3029 non-null   object \n",
            " 11  OwnedUsers         3029 non-null   int64  \n",
            " 12  Mechanics          3005 non-null   object \n",
            " 13  Domains            3029 non-null   object \n",
            "dtypes: float64(2), int64(7), object(5)\n",
            "memory usage: 331.4+ KB\n"
          ]
        }
      ]
    },
    {
      "cell_type": "markdown",
      "source": [
        "Cleaning up the object data-type values values in the ComplexityAverage column. So, that the data will be in most readable form while put in Machine Learning model."
      ],
      "metadata": {
        "id": "FVWC75gTjqqG"
      },
      "id": "FVWC75gTjqqG"
    },
    {
      "cell_type": "code",
      "execution_count": 4,
      "metadata": {
        "id": "X1Odp0GKLpJa"
      },
      "outputs": [],
      "source": [
        "df_game['ComplexityAverage'] = df_game['ComplexityAverage'].str.replace(',', '').astype(float).round().astype(int) #Replaces comma separated values with nothing, converts to float type, rounds it off, and then converts it back to integer type."
      ],
      "id": "X1Odp0GKLpJa"
    },
    {
      "cell_type": "markdown",
      "source": [
        "Cleaning up the object-type data values in the RatingAverage column. So, that the data will be in most readable form while put in Machine Learning model."
      ],
      "metadata": {
        "id": "bjTjM3Uaj-P8"
      },
      "id": "bjTjM3Uaj-P8"
    },
    {
      "cell_type": "code",
      "execution_count": 5,
      "metadata": {
        "id": "fbvbKTfkLtjN"
      },
      "outputs": [],
      "source": [
        "df_game['RatingAverage'] = pd.to_numeric(df_game['RatingAverage'].str.replace(',', '.'), errors='coerce') #Replaces comma separator with a period and then converts it to numeric data type. If any error occurs, it is coerced (converted) to NaN."
      ],
      "id": "fbvbKTfkLtjN"
    },
    {
      "cell_type": "markdown",
      "source": [
        "Cross check the columns with numerical values are either in int64 or float64 data type."
      ],
      "metadata": {
        "id": "BIgH4hsWkGr_"
      },
      "id": "BIgH4hsWkGr_"
    },
    {
      "cell_type": "code",
      "execution_count": 6,
      "metadata": {
        "id": "Xh_1VHXsLxmG",
        "colab": {
          "base_uri": "https://localhost:8080/"
        },
        "outputId": "9054d511-b874-4880-cb12-cd0dc68e586f"
      },
      "outputs": [
        {
          "output_type": "stream",
          "name": "stdout",
          "text": [
            "<class 'pandas.core.frame.DataFrame'>\n",
            "RangeIndex: 3029 entries, 0 to 3028\n",
            "Data columns (total 14 columns):\n",
            " #   Column             Non-Null Count  Dtype  \n",
            "---  ------             --------------  -----  \n",
            " 0   ID                 3029 non-null   int64  \n",
            " 1   Name               3029 non-null   object \n",
            " 2   YearPublished      3020 non-null   float64\n",
            " 3   MinPlayers         3029 non-null   int64  \n",
            " 4   MaxPlayers         3029 non-null   int64  \n",
            " 5   PlayTime           3012 non-null   float64\n",
            " 6   MinAge             3029 non-null   int64  \n",
            " 7   UsersRated         3029 non-null   int64  \n",
            " 8   RatingAverage      2800 non-null   float64\n",
            " 9   BGGRank            3029 non-null   int64  \n",
            " 10  ComplexityAverage  3029 non-null   int64  \n",
            " 11  OwnedUsers         3029 non-null   int64  \n",
            " 12  Mechanics          3005 non-null   object \n",
            " 13  Domains            3029 non-null   object \n",
            "dtypes: float64(3), int64(8), object(3)\n",
            "memory usage: 331.4+ KB\n"
          ]
        }
      ],
      "source": [
        "df_game.info() #Displays the basic information about the War Game DataFrame like column names, number of non-null values, and data types."
      ],
      "id": "Xh_1VHXsLxmG"
    },
    {
      "cell_type": "markdown",
      "source": [
        "Check whether the dataframe has any categorial value or not."
      ],
      "metadata": {
        "id": "SpYL6C0Ak5C1"
      },
      "id": "SpYL6C0Ak5C1"
    },
    {
      "cell_type": "code",
      "execution_count": 7,
      "metadata": {
        "id": "McO9fsTeL1Bb",
        "colab": {
          "base_uri": "https://localhost:8080/",
          "height": 475
        },
        "outputId": "0624c116-6526-4ba8-c7bf-7b061daf63c5"
      },
      "outputs": [
        {
          "output_type": "execute_result",
          "data": {
            "text/plain": [
              "                   ID        Name  YearPublished   MinPlayers   MaxPlayers  \\\n",
              "count     3029.000000        3029    3020.000000  3029.000000  3029.000000   \n",
              "unique            NaN        3000            NaN          NaN          NaN   \n",
              "top               NaN  Gettysburg            NaN          NaN          NaN   \n",
              "freq              NaN           4            NaN          NaN          NaN   \n",
              "mean     50573.468141         NaN    1995.741391     1.771212     3.254539   \n",
              "std      72396.255714         NaN      74.159419     0.495171     6.657371   \n",
              "min         27.000000         NaN       0.000000     0.000000     0.000000   \n",
              "25%       5960.000000         NaN    1986.000000     2.000000     2.000000   \n",
              "50%      12282.000000         NaN    2001.000000     2.000000     2.000000   \n",
              "75%      63951.000000         NaN    2010.000000     2.000000     3.000000   \n",
              "max     314672.000000         NaN    2021.000000     8.000000   163.000000   \n",
              "\n",
              "            PlayTime       MinAge    UsersRated  RatingAverage       BGGRank  \\\n",
              "count    3012.000000  3029.000000   3029.000000    2800.000000   3029.000000   \n",
              "unique           NaN          NaN           NaN            NaN           NaN   \n",
              "top              NaN          NaN           NaN            NaN           NaN   \n",
              "freq             NaN          NaN           NaN            NaN           NaN   \n",
              "mean      306.586653    10.104985    217.338065       6.875493   9630.068339   \n",
              "std      1377.313381     4.525672    681.232342       0.836920   4586.445739   \n",
              "min         0.000000     0.000000     30.000000       2.850000    140.000000   \n",
              "25%        90.000000    10.000000     48.000000       6.310000   6030.000000   \n",
              "50%       150.000000    12.000000     81.000000       6.900000   9508.000000   \n",
              "75%       240.000000    12.000000    171.000000       7.460000  13009.000000   \n",
              "max     60000.000000    18.000000  25720.000000       9.340000  20249.000000   \n",
              "\n",
              "        ComplexityAverage    OwnedUsers     Mechanics   Domains  \n",
              "count         3029.000000   3029.000000          3005      3029  \n",
              "unique                NaN           NaN          1057         1  \n",
              "top                   NaN           NaN  Hexagon Grid  Wargames  \n",
              "freq                  NaN           NaN           400      3029  \n",
              "mean           263.443381    569.163750           NaN       NaN  \n",
              "std            105.779870   1052.202777           NaN       NaN  \n",
              "min              0.000000     38.000000           NaN       NaN  \n",
              "25%            230.000000    196.000000           NaN       NaN  \n",
              "50%            275.000000    307.000000           NaN       NaN  \n",
              "75%            329.000000    573.000000           NaN       NaN  \n",
              "max            493.000000  33786.000000           NaN       NaN  "
            ],
            "text/html": [
              "\n",
              "  <div id=\"df-8ba5412d-a996-45bc-acf2-bc6d63e945e3\">\n",
              "    <div class=\"colab-df-container\">\n",
              "      <div>\n",
              "<style scoped>\n",
              "    .dataframe tbody tr th:only-of-type {\n",
              "        vertical-align: middle;\n",
              "    }\n",
              "\n",
              "    .dataframe tbody tr th {\n",
              "        vertical-align: top;\n",
              "    }\n",
              "\n",
              "    .dataframe thead th {\n",
              "        text-align: right;\n",
              "    }\n",
              "</style>\n",
              "<table border=\"1\" class=\"dataframe\">\n",
              "  <thead>\n",
              "    <tr style=\"text-align: right;\">\n",
              "      <th></th>\n",
              "      <th>ID</th>\n",
              "      <th>Name</th>\n",
              "      <th>YearPublished</th>\n",
              "      <th>MinPlayers</th>\n",
              "      <th>MaxPlayers</th>\n",
              "      <th>PlayTime</th>\n",
              "      <th>MinAge</th>\n",
              "      <th>UsersRated</th>\n",
              "      <th>RatingAverage</th>\n",
              "      <th>BGGRank</th>\n",
              "      <th>ComplexityAverage</th>\n",
              "      <th>OwnedUsers</th>\n",
              "      <th>Mechanics</th>\n",
              "      <th>Domains</th>\n",
              "    </tr>\n",
              "  </thead>\n",
              "  <tbody>\n",
              "    <tr>\n",
              "      <th>count</th>\n",
              "      <td>3029.000000</td>\n",
              "      <td>3029</td>\n",
              "      <td>3020.000000</td>\n",
              "      <td>3029.000000</td>\n",
              "      <td>3029.000000</td>\n",
              "      <td>3012.000000</td>\n",
              "      <td>3029.000000</td>\n",
              "      <td>3029.000000</td>\n",
              "      <td>2800.000000</td>\n",
              "      <td>3029.000000</td>\n",
              "      <td>3029.000000</td>\n",
              "      <td>3029.000000</td>\n",
              "      <td>3005</td>\n",
              "      <td>3029</td>\n",
              "    </tr>\n",
              "    <tr>\n",
              "      <th>unique</th>\n",
              "      <td>NaN</td>\n",
              "      <td>3000</td>\n",
              "      <td>NaN</td>\n",
              "      <td>NaN</td>\n",
              "      <td>NaN</td>\n",
              "      <td>NaN</td>\n",
              "      <td>NaN</td>\n",
              "      <td>NaN</td>\n",
              "      <td>NaN</td>\n",
              "      <td>NaN</td>\n",
              "      <td>NaN</td>\n",
              "      <td>NaN</td>\n",
              "      <td>1057</td>\n",
              "      <td>1</td>\n",
              "    </tr>\n",
              "    <tr>\n",
              "      <th>top</th>\n",
              "      <td>NaN</td>\n",
              "      <td>Gettysburg</td>\n",
              "      <td>NaN</td>\n",
              "      <td>NaN</td>\n",
              "      <td>NaN</td>\n",
              "      <td>NaN</td>\n",
              "      <td>NaN</td>\n",
              "      <td>NaN</td>\n",
              "      <td>NaN</td>\n",
              "      <td>NaN</td>\n",
              "      <td>NaN</td>\n",
              "      <td>NaN</td>\n",
              "      <td>Hexagon Grid</td>\n",
              "      <td>Wargames</td>\n",
              "    </tr>\n",
              "    <tr>\n",
              "      <th>freq</th>\n",
              "      <td>NaN</td>\n",
              "      <td>4</td>\n",
              "      <td>NaN</td>\n",
              "      <td>NaN</td>\n",
              "      <td>NaN</td>\n",
              "      <td>NaN</td>\n",
              "      <td>NaN</td>\n",
              "      <td>NaN</td>\n",
              "      <td>NaN</td>\n",
              "      <td>NaN</td>\n",
              "      <td>NaN</td>\n",
              "      <td>NaN</td>\n",
              "      <td>400</td>\n",
              "      <td>3029</td>\n",
              "    </tr>\n",
              "    <tr>\n",
              "      <th>mean</th>\n",
              "      <td>50573.468141</td>\n",
              "      <td>NaN</td>\n",
              "      <td>1995.741391</td>\n",
              "      <td>1.771212</td>\n",
              "      <td>3.254539</td>\n",
              "      <td>306.586653</td>\n",
              "      <td>10.104985</td>\n",
              "      <td>217.338065</td>\n",
              "      <td>6.875493</td>\n",
              "      <td>9630.068339</td>\n",
              "      <td>263.443381</td>\n",
              "      <td>569.163750</td>\n",
              "      <td>NaN</td>\n",
              "      <td>NaN</td>\n",
              "    </tr>\n",
              "    <tr>\n",
              "      <th>std</th>\n",
              "      <td>72396.255714</td>\n",
              "      <td>NaN</td>\n",
              "      <td>74.159419</td>\n",
              "      <td>0.495171</td>\n",
              "      <td>6.657371</td>\n",
              "      <td>1377.313381</td>\n",
              "      <td>4.525672</td>\n",
              "      <td>681.232342</td>\n",
              "      <td>0.836920</td>\n",
              "      <td>4586.445739</td>\n",
              "      <td>105.779870</td>\n",
              "      <td>1052.202777</td>\n",
              "      <td>NaN</td>\n",
              "      <td>NaN</td>\n",
              "    </tr>\n",
              "    <tr>\n",
              "      <th>min</th>\n",
              "      <td>27.000000</td>\n",
              "      <td>NaN</td>\n",
              "      <td>0.000000</td>\n",
              "      <td>0.000000</td>\n",
              "      <td>0.000000</td>\n",
              "      <td>0.000000</td>\n",
              "      <td>0.000000</td>\n",
              "      <td>30.000000</td>\n",
              "      <td>2.850000</td>\n",
              "      <td>140.000000</td>\n",
              "      <td>0.000000</td>\n",
              "      <td>38.000000</td>\n",
              "      <td>NaN</td>\n",
              "      <td>NaN</td>\n",
              "    </tr>\n",
              "    <tr>\n",
              "      <th>25%</th>\n",
              "      <td>5960.000000</td>\n",
              "      <td>NaN</td>\n",
              "      <td>1986.000000</td>\n",
              "      <td>2.000000</td>\n",
              "      <td>2.000000</td>\n",
              "      <td>90.000000</td>\n",
              "      <td>10.000000</td>\n",
              "      <td>48.000000</td>\n",
              "      <td>6.310000</td>\n",
              "      <td>6030.000000</td>\n",
              "      <td>230.000000</td>\n",
              "      <td>196.000000</td>\n",
              "      <td>NaN</td>\n",
              "      <td>NaN</td>\n",
              "    </tr>\n",
              "    <tr>\n",
              "      <th>50%</th>\n",
              "      <td>12282.000000</td>\n",
              "      <td>NaN</td>\n",
              "      <td>2001.000000</td>\n",
              "      <td>2.000000</td>\n",
              "      <td>2.000000</td>\n",
              "      <td>150.000000</td>\n",
              "      <td>12.000000</td>\n",
              "      <td>81.000000</td>\n",
              "      <td>6.900000</td>\n",
              "      <td>9508.000000</td>\n",
              "      <td>275.000000</td>\n",
              "      <td>307.000000</td>\n",
              "      <td>NaN</td>\n",
              "      <td>NaN</td>\n",
              "    </tr>\n",
              "    <tr>\n",
              "      <th>75%</th>\n",
              "      <td>63951.000000</td>\n",
              "      <td>NaN</td>\n",
              "      <td>2010.000000</td>\n",
              "      <td>2.000000</td>\n",
              "      <td>3.000000</td>\n",
              "      <td>240.000000</td>\n",
              "      <td>12.000000</td>\n",
              "      <td>171.000000</td>\n",
              "      <td>7.460000</td>\n",
              "      <td>13009.000000</td>\n",
              "      <td>329.000000</td>\n",
              "      <td>573.000000</td>\n",
              "      <td>NaN</td>\n",
              "      <td>NaN</td>\n",
              "    </tr>\n",
              "    <tr>\n",
              "      <th>max</th>\n",
              "      <td>314672.000000</td>\n",
              "      <td>NaN</td>\n",
              "      <td>2021.000000</td>\n",
              "      <td>8.000000</td>\n",
              "      <td>163.000000</td>\n",
              "      <td>60000.000000</td>\n",
              "      <td>18.000000</td>\n",
              "      <td>25720.000000</td>\n",
              "      <td>9.340000</td>\n",
              "      <td>20249.000000</td>\n",
              "      <td>493.000000</td>\n",
              "      <td>33786.000000</td>\n",
              "      <td>NaN</td>\n",
              "      <td>NaN</td>\n",
              "    </tr>\n",
              "  </tbody>\n",
              "</table>\n",
              "</div>\n",
              "      <button class=\"colab-df-convert\" onclick=\"convertToInteractive('df-8ba5412d-a996-45bc-acf2-bc6d63e945e3')\"\n",
              "              title=\"Convert this dataframe to an interactive table.\"\n",
              "              style=\"display:none;\">\n",
              "        \n",
              "  <svg xmlns=\"http://www.w3.org/2000/svg\" height=\"24px\"viewBox=\"0 0 24 24\"\n",
              "       width=\"24px\">\n",
              "    <path d=\"M0 0h24v24H0V0z\" fill=\"none\"/>\n",
              "    <path d=\"M18.56 5.44l.94 2.06.94-2.06 2.06-.94-2.06-.94-.94-2.06-.94 2.06-2.06.94zm-11 1L8.5 8.5l.94-2.06 2.06-.94-2.06-.94L8.5 2.5l-.94 2.06-2.06.94zm10 10l.94 2.06.94-2.06 2.06-.94-2.06-.94-.94-2.06-.94 2.06-2.06.94z\"/><path d=\"M17.41 7.96l-1.37-1.37c-.4-.4-.92-.59-1.43-.59-.52 0-1.04.2-1.43.59L10.3 9.45l-7.72 7.72c-.78.78-.78 2.05 0 2.83L4 21.41c.39.39.9.59 1.41.59.51 0 1.02-.2 1.41-.59l7.78-7.78 2.81-2.81c.8-.78.8-2.07 0-2.86zM5.41 20L4 18.59l7.72-7.72 1.47 1.35L5.41 20z\"/>\n",
              "  </svg>\n",
              "      </button>\n",
              "      \n",
              "  <style>\n",
              "    .colab-df-container {\n",
              "      display:flex;\n",
              "      flex-wrap:wrap;\n",
              "      gap: 12px;\n",
              "    }\n",
              "\n",
              "    .colab-df-convert {\n",
              "      background-color: #E8F0FE;\n",
              "      border: none;\n",
              "      border-radius: 50%;\n",
              "      cursor: pointer;\n",
              "      display: none;\n",
              "      fill: #1967D2;\n",
              "      height: 32px;\n",
              "      padding: 0 0 0 0;\n",
              "      width: 32px;\n",
              "    }\n",
              "\n",
              "    .colab-df-convert:hover {\n",
              "      background-color: #E2EBFA;\n",
              "      box-shadow: 0px 1px 2px rgba(60, 64, 67, 0.3), 0px 1px 3px 1px rgba(60, 64, 67, 0.15);\n",
              "      fill: #174EA6;\n",
              "    }\n",
              "\n",
              "    [theme=dark] .colab-df-convert {\n",
              "      background-color: #3B4455;\n",
              "      fill: #D2E3FC;\n",
              "    }\n",
              "\n",
              "    [theme=dark] .colab-df-convert:hover {\n",
              "      background-color: #434B5C;\n",
              "      box-shadow: 0px 1px 3px 1px rgba(0, 0, 0, 0.15);\n",
              "      filter: drop-shadow(0px 1px 2px rgba(0, 0, 0, 0.3));\n",
              "      fill: #FFFFFF;\n",
              "    }\n",
              "  </style>\n",
              "\n",
              "      <script>\n",
              "        const buttonEl =\n",
              "          document.querySelector('#df-8ba5412d-a996-45bc-acf2-bc6d63e945e3 button.colab-df-convert');\n",
              "        buttonEl.style.display =\n",
              "          google.colab.kernel.accessAllowed ? 'block' : 'none';\n",
              "\n",
              "        async function convertToInteractive(key) {\n",
              "          const element = document.querySelector('#df-8ba5412d-a996-45bc-acf2-bc6d63e945e3');\n",
              "          const dataTable =\n",
              "            await google.colab.kernel.invokeFunction('convertToInteractive',\n",
              "                                                     [key], {});\n",
              "          if (!dataTable) return;\n",
              "\n",
              "          const docLinkHtml = 'Like what you see? Visit the ' +\n",
              "            '<a target=\"_blank\" href=https://colab.research.google.com/notebooks/data_table.ipynb>data table notebook</a>'\n",
              "            + ' to learn more about interactive tables.';\n",
              "          element.innerHTML = '';\n",
              "          dataTable['output_type'] = 'display_data';\n",
              "          await google.colab.output.renderOutput(dataTable, element);\n",
              "          const docLink = document.createElement('div');\n",
              "          docLink.innerHTML = docLinkHtml;\n",
              "          element.appendChild(docLink);\n",
              "        }\n",
              "      </script>\n",
              "    </div>\n",
              "  </div>\n",
              "  "
            ]
          },
          "metadata": {},
          "execution_count": 7
        }
      ],
      "source": [
        "df_game.describe(include='all') #Displays descriptive statistics about the DataFrame including count, mean, standard deviation, minimum, maximum, and quartiles for numeric columns, and count, unique values, top, and frequency for categorical columns."
      ],
      "id": "McO9fsTeL1Bb"
    },
    {
      "cell_type": "markdown",
      "source": [
        "Check the number of missing values in each column"
      ],
      "metadata": {
        "id": "31wO0Skmk-SD"
      },
      "id": "31wO0Skmk-SD"
    },
    {
      "cell_type": "code",
      "execution_count": 8,
      "metadata": {
        "id": "GYnR7CK2L32d",
        "colab": {
          "base_uri": "https://localhost:8080/"
        },
        "outputId": "f1b92ee6-c66e-4acf-ae15-88981392a395"
      },
      "outputs": [
        {
          "output_type": "execute_result",
          "data": {
            "text/plain": [
              "ID                     0\n",
              "Name                   0\n",
              "YearPublished          9\n",
              "MinPlayers             0\n",
              "MaxPlayers             0\n",
              "PlayTime              17\n",
              "MinAge                 0\n",
              "UsersRated             0\n",
              "RatingAverage        229\n",
              "BGGRank                0\n",
              "ComplexityAverage      0\n",
              "OwnedUsers             0\n",
              "Mechanics             24\n",
              "Domains                0\n",
              "dtype: int64"
            ]
          },
          "metadata": {},
          "execution_count": 8
        }
      ],
      "source": [
        "df_game.isnull().sum() #Displays the number of null values in each column of the DataFrame."
      ],
      "id": "GYnR7CK2L32d"
    },
    {
      "cell_type": "markdown",
      "source": [
        "##4. Pipeline Based Workflow"
      ],
      "metadata": {
        "id": "4PK3essE1zFF"
      },
      "id": "4PK3essE1zFF"
    },
    {
      "cell_type": "markdown",
      "source": [
        "Categorize the dependable and independent variables:\n",
        "#####Independent Variables: used as a function to drive the dependent variable/s. ID, Mechanics, Name, Year published columns are dropped because they are unique to the game, and doesn't imapct much upon the BGG rank. Domains column is dropped since we are only making one domain type game.\n",
        "#####Dependent Variables: The value/s which is been predicted using independent variables."
      ],
      "metadata": {
        "id": "x7bCecVglCqp"
      },
      "id": "x7bCecVglCqp"
    },
    {
      "cell_type": "code",
      "execution_count": 9,
      "metadata": {
        "id": "9d14KXP0L7Gb"
      },
      "outputs": [],
      "source": [
        "game_y = df_game['BGGRank']\n",
        "game_x = df_game.drop(columns=['ID','Mechanics','Name','Domains','YearPublished','BGGRank'])"
      ],
      "id": "9d14KXP0L7Gb"
    },
    {
      "cell_type": "markdown",
      "source": [
        "Cross-check whether you have nescessary columns to perform the Machine Learning model, if not we can edit the above code accordingly."
      ],
      "metadata": {
        "id": "iqL1F2L-lan7"
      },
      "id": "iqL1F2L-lan7"
    },
    {
      "cell_type": "code",
      "execution_count": 10,
      "metadata": {
        "id": "vK42BNIQMWe3",
        "colab": {
          "base_uri": "https://localhost:8080/",
          "height": 206
        },
        "outputId": "c815d0af-a912-428b-bb3c-bf55857dd675"
      },
      "outputs": [
        {
          "output_type": "execute_result",
          "data": {
            "text/plain": [
              "   MinPlayers  MaxPlayers  PlayTime  MinAge  UsersRated  RatingAverage  \\\n",
              "0           2           2      15.0      10         234           6.40   \n",
              "1           1           2     180.0      12          51           4.68   \n",
              "2           1           2     180.0      12          59           5.39   \n",
              "3           2           2     360.0      12         258           5.79   \n",
              "4           2           2     120.0      12         117           6.43   \n",
              "\n",
              "   ComplexityAverage  OwnedUsers  \n",
              "0                146         337  \n",
              "1                238         170  \n",
              "2                307         270  \n",
              "3                362         785  \n",
              "4                238         348  "
            ],
            "text/html": [
              "\n",
              "  <div id=\"df-b8df6c79-89a9-4a1d-965e-d4d3e27ee06f\">\n",
              "    <div class=\"colab-df-container\">\n",
              "      <div>\n",
              "<style scoped>\n",
              "    .dataframe tbody tr th:only-of-type {\n",
              "        vertical-align: middle;\n",
              "    }\n",
              "\n",
              "    .dataframe tbody tr th {\n",
              "        vertical-align: top;\n",
              "    }\n",
              "\n",
              "    .dataframe thead th {\n",
              "        text-align: right;\n",
              "    }\n",
              "</style>\n",
              "<table border=\"1\" class=\"dataframe\">\n",
              "  <thead>\n",
              "    <tr style=\"text-align: right;\">\n",
              "      <th></th>\n",
              "      <th>MinPlayers</th>\n",
              "      <th>MaxPlayers</th>\n",
              "      <th>PlayTime</th>\n",
              "      <th>MinAge</th>\n",
              "      <th>UsersRated</th>\n",
              "      <th>RatingAverage</th>\n",
              "      <th>ComplexityAverage</th>\n",
              "      <th>OwnedUsers</th>\n",
              "    </tr>\n",
              "  </thead>\n",
              "  <tbody>\n",
              "    <tr>\n",
              "      <th>0</th>\n",
              "      <td>2</td>\n",
              "      <td>2</td>\n",
              "      <td>15.0</td>\n",
              "      <td>10</td>\n",
              "      <td>234</td>\n",
              "      <td>6.40</td>\n",
              "      <td>146</td>\n",
              "      <td>337</td>\n",
              "    </tr>\n",
              "    <tr>\n",
              "      <th>1</th>\n",
              "      <td>1</td>\n",
              "      <td>2</td>\n",
              "      <td>180.0</td>\n",
              "      <td>12</td>\n",
              "      <td>51</td>\n",
              "      <td>4.68</td>\n",
              "      <td>238</td>\n",
              "      <td>170</td>\n",
              "    </tr>\n",
              "    <tr>\n",
              "      <th>2</th>\n",
              "      <td>1</td>\n",
              "      <td>2</td>\n",
              "      <td>180.0</td>\n",
              "      <td>12</td>\n",
              "      <td>59</td>\n",
              "      <td>5.39</td>\n",
              "      <td>307</td>\n",
              "      <td>270</td>\n",
              "    </tr>\n",
              "    <tr>\n",
              "      <th>3</th>\n",
              "      <td>2</td>\n",
              "      <td>2</td>\n",
              "      <td>360.0</td>\n",
              "      <td>12</td>\n",
              "      <td>258</td>\n",
              "      <td>5.79</td>\n",
              "      <td>362</td>\n",
              "      <td>785</td>\n",
              "    </tr>\n",
              "    <tr>\n",
              "      <th>4</th>\n",
              "      <td>2</td>\n",
              "      <td>2</td>\n",
              "      <td>120.0</td>\n",
              "      <td>12</td>\n",
              "      <td>117</td>\n",
              "      <td>6.43</td>\n",
              "      <td>238</td>\n",
              "      <td>348</td>\n",
              "    </tr>\n",
              "  </tbody>\n",
              "</table>\n",
              "</div>\n",
              "      <button class=\"colab-df-convert\" onclick=\"convertToInteractive('df-b8df6c79-89a9-4a1d-965e-d4d3e27ee06f')\"\n",
              "              title=\"Convert this dataframe to an interactive table.\"\n",
              "              style=\"display:none;\">\n",
              "        \n",
              "  <svg xmlns=\"http://www.w3.org/2000/svg\" height=\"24px\"viewBox=\"0 0 24 24\"\n",
              "       width=\"24px\">\n",
              "    <path d=\"M0 0h24v24H0V0z\" fill=\"none\"/>\n",
              "    <path d=\"M18.56 5.44l.94 2.06.94-2.06 2.06-.94-2.06-.94-.94-2.06-.94 2.06-2.06.94zm-11 1L8.5 8.5l.94-2.06 2.06-.94-2.06-.94L8.5 2.5l-.94 2.06-2.06.94zm10 10l.94 2.06.94-2.06 2.06-.94-2.06-.94-.94-2.06-.94 2.06-2.06.94z\"/><path d=\"M17.41 7.96l-1.37-1.37c-.4-.4-.92-.59-1.43-.59-.52 0-1.04.2-1.43.59L10.3 9.45l-7.72 7.72c-.78.78-.78 2.05 0 2.83L4 21.41c.39.39.9.59 1.41.59.51 0 1.02-.2 1.41-.59l7.78-7.78 2.81-2.81c.8-.78.8-2.07 0-2.86zM5.41 20L4 18.59l7.72-7.72 1.47 1.35L5.41 20z\"/>\n",
              "  </svg>\n",
              "      </button>\n",
              "      \n",
              "  <style>\n",
              "    .colab-df-container {\n",
              "      display:flex;\n",
              "      flex-wrap:wrap;\n",
              "      gap: 12px;\n",
              "    }\n",
              "\n",
              "    .colab-df-convert {\n",
              "      background-color: #E8F0FE;\n",
              "      border: none;\n",
              "      border-radius: 50%;\n",
              "      cursor: pointer;\n",
              "      display: none;\n",
              "      fill: #1967D2;\n",
              "      height: 32px;\n",
              "      padding: 0 0 0 0;\n",
              "      width: 32px;\n",
              "    }\n",
              "\n",
              "    .colab-df-convert:hover {\n",
              "      background-color: #E2EBFA;\n",
              "      box-shadow: 0px 1px 2px rgba(60, 64, 67, 0.3), 0px 1px 3px 1px rgba(60, 64, 67, 0.15);\n",
              "      fill: #174EA6;\n",
              "    }\n",
              "\n",
              "    [theme=dark] .colab-df-convert {\n",
              "      background-color: #3B4455;\n",
              "      fill: #D2E3FC;\n",
              "    }\n",
              "\n",
              "    [theme=dark] .colab-df-convert:hover {\n",
              "      background-color: #434B5C;\n",
              "      box-shadow: 0px 1px 3px 1px rgba(0, 0, 0, 0.15);\n",
              "      filter: drop-shadow(0px 1px 2px rgba(0, 0, 0, 0.3));\n",
              "      fill: #FFFFFF;\n",
              "    }\n",
              "  </style>\n",
              "\n",
              "      <script>\n",
              "        const buttonEl =\n",
              "          document.querySelector('#df-b8df6c79-89a9-4a1d-965e-d4d3e27ee06f button.colab-df-convert');\n",
              "        buttonEl.style.display =\n",
              "          google.colab.kernel.accessAllowed ? 'block' : 'none';\n",
              "\n",
              "        async function convertToInteractive(key) {\n",
              "          const element = document.querySelector('#df-b8df6c79-89a9-4a1d-965e-d4d3e27ee06f');\n",
              "          const dataTable =\n",
              "            await google.colab.kernel.invokeFunction('convertToInteractive',\n",
              "                                                     [key], {});\n",
              "          if (!dataTable) return;\n",
              "\n",
              "          const docLinkHtml = 'Like what you see? Visit the ' +\n",
              "            '<a target=\"_blank\" href=https://colab.research.google.com/notebooks/data_table.ipynb>data table notebook</a>'\n",
              "            + ' to learn more about interactive tables.';\n",
              "          element.innerHTML = '';\n",
              "          dataTable['output_type'] = 'display_data';\n",
              "          await google.colab.output.renderOutput(dataTable, element);\n",
              "          const docLink = document.createElement('div');\n",
              "          docLink.innerHTML = docLinkHtml;\n",
              "          element.appendChild(docLink);\n",
              "        }\n",
              "      </script>\n",
              "    </div>\n",
              "  </div>\n",
              "  "
            ]
          },
          "metadata": {},
          "execution_count": 10
        }
      ],
      "source": [
        "game_x.head()"
      ],
      "id": "vK42BNIQMWe3"
    },
    {
      "cell_type": "markdown",
      "source": [
        "Split the dataset into training and testing sets into 70-30% respectively. random state 1 or 42 is used to ensure reproducibility of the results. It has no major impact on the result, however we have to keep it constant across script."
      ],
      "metadata": {
        "id": "qdvUQ33Ql03m"
      },
      "id": "qdvUQ33Ql03m"
    },
    {
      "cell_type": "code",
      "execution_count": 11,
      "metadata": {
        "id": "nnn52YXxMbEQ"
      },
      "outputs": [],
      "source": [
        "from sklearn.model_selection import train_test_split  \n",
        "X_train, X_test, Y_train, Y_test = train_test_split(\n",
        "    game_x, game_y, test_size=0.3, random_state=42)  #30% test split will give enough data for model to test upon."
      ],
      "id": "nnn52YXxMbEQ"
    },
    {
      "cell_type": "markdown",
      "source": [
        "Create a pipeline to preprocess the data and apply the stacking Regressor Model and Train the data. Regressor Models are used to when we have to determine the actual numbers. Classifiers, as taught in class, are just for classifying the result into some pre-determined classification. for ex- if we want to determine the type of iris flower the result would be depending upon its sepal and stem length and width, the classifier model will be used.\n",
        "\n",
        "#####A base model is trained on a dataset to make predictions/classify new data. All of the base models - random forest, gradient boost, and Support Vector model has their own advantages and limitation, combining them in a base model combines their strengths to give a more accurate result.\n",
        "#####A meta model is trained on the output of multiple base models to improve their performance by combining their strengths and eliminating any weakness the base model/s has. Linear regression is used at Meta model to make the final model more interpretable."
      ],
      "metadata": {
        "id": "7uE0imMtmPxc"
      },
      "id": "7uE0imMtmPxc"
    },
    {
      "cell_type": "code",
      "execution_count": 12,
      "metadata": {
        "id": "px7Y5mVcMnLf"
      },
      "outputs": [],
      "source": [
        "#importing necessary libraries to work on\n",
        "from sklearn.compose import ColumnTransformer\n",
        "from sklearn.impute import SimpleImputer\n",
        "from sklearn.preprocessing import MinMaxScaler\n",
        "from sklearn.ensemble import StackingRegressor\n",
        "from sklearn.linear_model import LinearRegression\n",
        "from sklearn.ensemble import GradientBoostingRegressor\n",
        "from sklearn.svm import SVR\n",
        "from sklearn.ensemble import RandomForestRegressor\n",
        "from sklearn.pipeline import Pipeline\n",
        "\n",
        "# Create transformers\n",
        "imp = SimpleImputer(strategy='mean')\n",
        "scaler = MinMaxScaler()\n",
        "\n",
        "# Define transformers for different columns\n",
        "tf = ColumnTransformer(transformers=[('imputer', imp, [2, 5])], remainder='passthrough')\n",
        "tf2 = ColumnTransformer(transformers=[('scaler', scaler, [2, 4, 5, 6, 7])], remainder='passthrough')\n",
        "\n",
        "# Define the base models\n",
        "rf_model = RandomForestRegressor(n_estimators=100, random_state=42)\n",
        "svr_model = SVR(kernel='rbf', gamma='scale')\n",
        "gb_model = GradientBoostingRegressor(n_estimators=100, learning_rate=0.1, random_state=42)\n",
        "\n",
        "# Define the meta model\n",
        "meta_model = LinearRegression()\n",
        "\n",
        "# Define the stacking regressor\n",
        "stack_model = StackingRegressor(estimators=[('rf', rf_model), ('svr', svr_model), ('gb', gb_model)], final_estimator=meta_model)\n",
        "\n",
        "steps = [('imputer', tf),\n",
        "         ('scaler', tf2),  \n",
        "         ('stk_model', stack_model)]\n",
        "\n",
        "Pipe = Pipeline(steps)"
      ],
      "id": "px7Y5mVcMnLf"
    },
    {
      "cell_type": "markdown",
      "source": [
        "Fit the pipeline on the training data using the fit method."
      ],
      "metadata": {
        "id": "bSJM0AiloTc8"
      },
      "id": "bSJM0AiloTc8"
    },
    {
      "cell_type": "code",
      "execution_count": 13,
      "metadata": {
        "id": "gQmqU4HdN9rH"
      },
      "outputs": [],
      "source": [
        "pipe = Pipe.fit(X_train, Y_train)"
      ],
      "id": "gQmqU4HdN9rH"
    },
    {
      "cell_type": "markdown",
      "source": [
        "Additional Machine Learning Evaluation done to check which model/combination of Models is best."
      ],
      "metadata": {
        "id": "mT3gaOf1ol8m"
      },
      "id": "mT3gaOf1ol8m"
    },
    {
      "cell_type": "code",
      "source": [
        "#Using Just Random Forest Regressor as Base Model and Linear Regression as meta model in the above code, the accuracy score of the model on the test set is: 96.34%:: 0.9634485277049024\n",
        "#Using Just Gradient Boosting Regressor as Base Model and Linear Regression as meta model in the above code, the accuracy score of the model on the test set is: 96.30%:: 0.9630034165187327\n",
        "#Using Just Support Vector Regression as Base Model and Linear Regression as meta model in the above code, the accuracy score of the model on the test set is: 00.05%:: 0.0005302180322895866\n",
        "#Using Just Linear Regression Model in the above code, the accuracy score of the model on the test set is:67.93%:: 0.6793918290602308\n",
        "\n",
        "### That's why a hybrid stacking model is used to get the best accuracy of the model using all three Random Forest, Support Vector and Gradient Booster as Base Model and Linear Regression as Meta Model.\n",
        "\n",
        "###### Sample code for Random Forest Regressor and Linear Regression hybrid model is below, Just Changed the model.\n",
        "#importing necessary libraries.\n",
        "from sklearn.compose import ColumnTransformer\n",
        "from sklearn.impute import SimpleImputer\n",
        "from sklearn.preprocessing import MinMaxScaler\n",
        "from sklearn.ensemble import StackingRegressor\n",
        "from sklearn.linear_model import LinearRegression\n",
        "from sklearn.ensemble import RandomForestRegressor\n",
        "from sklearn.pipeline import Pipeline\n",
        "\n",
        "###### Create transformers\n",
        "imp = SimpleImputer(strategy='mean')\n",
        "scaler = MinMaxScaler()\n",
        "\n",
        "###### Define transformers for different columns\n",
        "tf = ColumnTransformer(transformers=[('imputer', imp, [2, 5])], remainder='passthrough')\n",
        "tf2 = ColumnTransformer(transformers=[('scaler', scaler, [2, 4, 5, 6, 7])], remainder='passthrough')\n",
        "\n",
        "###### Define the base models\n",
        "rf_model = RandomForestRegressor(n_estimators=100, random_state=42)\n",
        "\n",
        "###### Define the meta model\n",
        "meta_model = LinearRegression()\n",
        "\n",
        "###### Define the stacking regressor\n",
        "stack_model = StackingRegressor(estimators=[('rf', rf_model)], final_estimator=meta_model)\n",
        "\n",
        "steps = [('imputer', tf),\n",
        "         ('scaler', tf2),  \n",
        "         ('stk_model', stack_model)]\n",
        "\n",
        "Pipe = Pipeline(steps)"
      ],
      "metadata": {
        "id": "TAVbFf9eGM80"
      },
      "execution_count": null,
      "outputs": [],
      "id": "TAVbFf9eGM80"
    },
    {
      "cell_type": "markdown",
      "metadata": {
        "id": "NgxT8e6xCY8O"
      },
      "source": [
        "##5. Model Evaluation"
      ],
      "id": "NgxT8e6xCY8O"
    },
    {
      "cell_type": "markdown",
      "source": [
        "####Evaluate the accuracy score on the test data using the score method."
      ],
      "metadata": {
        "id": "1qEk-V1PoYMr"
      },
      "id": "1qEk-V1PoYMr"
    },
    {
      "cell_type": "code",
      "execution_count": 14,
      "metadata": {
        "id": "Vqj-J10YONkb",
        "colab": {
          "base_uri": "https://localhost:8080/"
        },
        "outputId": "f5fffec5-3357-489b-e68a-2d38ac5718b7"
      },
      "outputs": [
        {
          "output_type": "execute_result",
          "data": {
            "text/plain": [
              "0.9654833747867442"
            ]
          },
          "metadata": {},
          "execution_count": 14
        }
      ],
      "source": [
        "pipe.score(X_test, Y_test) #returns the accuracy score of the model on the test set."
      ],
      "id": "Vqj-J10YONkb"
    },
    {
      "cell_type": "markdown",
      "source": [
        "####Making prediction on the test dataset"
      ],
      "metadata": {
        "id": "NjX7E2GWsnIZ"
      },
      "id": "NjX7E2GWsnIZ"
    },
    {
      "cell_type": "code",
      "execution_count": 15,
      "metadata": {
        "id": "kvYn3jTAOmaZ"
      },
      "outputs": [],
      "source": [
        "Y_predict = pipe.predict(X_test)"
      ],
      "id": "kvYn3jTAOmaZ"
    },
    {
      "cell_type": "markdown",
      "source": [
        "###Evaluation the Accuracy of Model using Different Evalaution Metrics"
      ],
      "metadata": {
        "id": "tkxlp2Q42P_2"
      },
      "id": "tkxlp2Q42P_2"
    },
    {
      "cell_type": "markdown",
      "source": [
        "R2, MAE, MSE, RMSE, and MAPE are used here as evaluation metrics for above stacking regression machine learning model to get different outlook on the accuracy of the model's predictions."
      ],
      "metadata": {
        "id": "Im-4x1vUsrjD"
      },
      "id": "Im-4x1vUsrjD"
    },
    {
      "cell_type": "code",
      "execution_count": 16,
      "metadata": {
        "id": "EXBMdtwQQG0y",
        "colab": {
          "base_uri": "https://localhost:8080/"
        },
        "outputId": "88ac6c59-4063-4fa6-f343-fda3a6f6af0c"
      },
      "outputs": [
        {
          "output_type": "stream",
          "name": "stdout",
          "text": [
            "0.9654833747867442\n",
            "471.93525337925604\n",
            "726845.5239893072\n",
            "852.5523585031639\n",
            "6.023569652494656\n"
          ]
        }
      ],
      "source": [
        "#importing evaluation metrics libraries.\n",
        "from sklearn.metrics import r2_score, mean_absolute_error, mean_squared_error\n",
        "import numpy as np\n",
        "\n",
        "# Use the trained model to make predictions on the test data\n",
        "Y_predict = pipe.predict(X_test)\n",
        "\n",
        "# Calculate R2 (R-squared). Represents the proportion of the variance in the dependent variable.\n",
        "r2 = r2_score(Y_test, Y_predict)\n",
        "print(r2)\n",
        "\n",
        "# Calculate MAE (Mean Absolute Error). Measures the average absolute difference between the predicted and actual values.\n",
        "mae = mean_absolute_error(Y_test, Y_predict)\n",
        "print(mae)\n",
        "\n",
        "# Calculate MSE (Mean Squared Error). Similar to MAE, however it squares the difference between predicted and actual values before averaging.\n",
        "mse = mean_squared_error(Y_test, Y_predict)\n",
        "print(mse)\n",
        "\n",
        "# Calculate RMSE (Root Mean Squared Error). Squared root of MSE.\n",
        "rmse = np.sqrt(mean_squared_error(Y_test, Y_predict))\n",
        "print(rmse)\n",
        "\n",
        "# Calculate MAPE (Mean Absolute Percentage Error). MAPE provides a measure of the percentage error between the predicted and actual values.\n",
        "mape = np.mean(np.abs((Y_test - Y_predict) / Y_test)) * 100\n",
        "print(mape)"
      ],
      "id": "EXBMdtwQQG0y"
    },
    {
      "cell_type": "markdown",
      "source": [
        "Above values depict that the code is less prone to errorsome calculation and is working well so far."
      ],
      "metadata": {
        "id": "cuTkODFaUtQM"
      },
      "id": "cuTkODFaUtQM"
    },
    {
      "cell_type": "markdown",
      "metadata": {
        "id": "7H8OLG-qCQrH"
      },
      "source": [
        "###Cross-Validation Evaluation Techniques"
      ],
      "id": "7H8OLG-qCQrH"
    },
    {
      "cell_type": "markdown",
      "metadata": {
        "id": "Va42x6M8XgWZ"
      },
      "source": [
        "####K-Fold Cross Validation\n",
        "K-fold cross-validation estimate the performance of the Machine Learning model by splitting the data into k equal parts, using k-1 parts to train the model and the remaining part to evaluate its performance. This process is repeated k times, each time using a different part as the evaluation set. By doing this, we can obtain a more robust estimate of the model's performance and reduce the risk of overfitting. The smaller range of the array of solution in K-fold cross validation indicates that the model is stable and is less prone to over-fitting."
      ],
      "id": "Va42x6M8XgWZ"
    },
    {
      "cell_type": "code",
      "execution_count": 17,
      "metadata": {
        "id": "m2aCOFUXOmFd",
        "colab": {
          "base_uri": "https://localhost:8080/"
        },
        "outputId": "cd45cde1-9a1b-49fe-e839-bc3efcdc4ead"
      },
      "outputs": [
        {
          "output_type": "execute_result",
          "data": {
            "text/plain": [
              "array([0.97196506, 0.95549904, 0.97195195, 0.96868837, 0.97375158])"
            ]
          },
          "metadata": {},
          "execution_count": 17
        }
      ],
      "source": [
        "from sklearn.model_selection import KFold, cross_val_score\n",
        "kf = KFold()\n",
        "cross_val_score(pipe, game_x, game_y, cv=kf )"
      ],
      "id": "m2aCOFUXOmFd"
    },
    {
      "cell_type": "markdown",
      "metadata": {
        "id": "ycRT3wx3Ug10"
      },
      "source": [
        "####Leave-one-out Cross Validation\n",
        "leave-one-out cross-validation (LOOCV) trains the model on all but one observation and evaluates its performance on the left-out observation. This process is repeated for each observation in the dataset. LOOCV can be computationally expensive for large datasets, but it can provide a more reliable estimate of the model's performance and stability. (Caution: It will take more than 3 hours of computation time)."
      ],
      "id": "ycRT3wx3Ug10"
    },
    {
      "cell_type": "code",
      "execution_count": null,
      "metadata": {
        "id": "iT5aN9t_RfvM"
      },
      "outputs": [],
      "source": [
        "from sklearn.model_selection import LeaveOneOut, cross_val_score\n",
        "loo = LeaveOneOut()\n",
        "cross_val_score(pipe, game_x, game_y, cv=loo)"
      ],
      "id": "iT5aN9t_RfvM"
    },
    {
      "cell_type": "markdown",
      "metadata": {
        "id": "DV4WZmanU3iV"
      },
      "source": [
        "####Shuffle Split Cross Validation\n",
        "Shuffle split cross-validation randomly shuffles the data and split it into training and testing sets multiple times. This approach is mainly useful for datasets where the observations are not ordered by time, like gaming database in here."
      ],
      "id": "DV4WZmanU3iV"
    },
    {
      "cell_type": "code",
      "execution_count": 18,
      "metadata": {
        "id": "fTG8TMg6Rfrr",
        "colab": {
          "base_uri": "https://localhost:8080/"
        },
        "outputId": "256a9066-b1e3-4542-fbdc-46d19eb508f4"
      },
      "outputs": [
        {
          "output_type": "execute_result",
          "data": {
            "text/plain": [
              "array([0.97610679, 0.96571353, 0.98190533, 0.96435091, 0.96642889,\n",
              "       0.9553103 , 0.97485069, 0.96001524, 0.98282628, 0.97840938])"
            ]
          },
          "metadata": {},
          "execution_count": 18
        }
      ],
      "source": [
        "from sklearn.model_selection import ShuffleSplit, cross_val_score\n",
        "ss = ShuffleSplit()\n",
        "cross_val_score(pipe, game_x, game_y, cv=ss)"
      ],
      "id": "fTG8TMg6Rfrr"
    },
    {
      "cell_type": "markdown",
      "source": [
        "The cross validation results are quite stable (Less range between the extreme values) shows that the model is doing good."
      ],
      "metadata": {
        "id": "t3Us7bfHU7JD"
      },
      "id": "t3Us7bfHU7JD"
    },
    {
      "cell_type": "markdown",
      "metadata": {
        "id": "VLBx83TsCrVY"
      },
      "source": [
        "##6. Hyperparameter Tuning using GridSearch Cross Validation Method with Pipeline\n",
        "GridSearchCV (Grid Search Cross Validation) is a method for tuning hyperparameters of a machine learning model to improve its performance. It is a systematic approach for analysing various combinations of hyperparameter values to identify the best performing model and its parameters."
      ],
      "id": "VLBx83TsCrVY"
    },
    {
      "cell_type": "markdown",
      "metadata": {
        "id": "iObPxu1GDAW-"
      },
      "source": [
        "Importing necessary library and specifying the parameters to perform a gridsearch to evaluate the best parameters.\n",
        "#####The param_grid below is a bit computational heavy and will take 1 hour or so. To check whether the code is working or not, you might have to give 1 variable to each element. it will reduce its computation time."
      ],
      "id": "iObPxu1GDAW-"
    },
    {
      "cell_type": "code",
      "execution_count": 19,
      "metadata": {
        "id": "584vD2oJYmAN"
      },
      "outputs": [],
      "source": [
        "from sklearn.model_selection import GridSearchCV\n",
        "\n",
        "param_grid = {\n",
        "    'imputer__imputer__strategy': ['mean', 'median'],\n",
        "    'stk_model__rf__n_estimators': [100, 200, 300],\n",
        "    'stk_model__gb__learning_rate': [0.05, 0.1, 0.2],\n",
        "    'stk_model__gb__n_estimators': [50, 100, 150],\n",
        "}"
      ],
      "id": "584vD2oJYmAN"
    },
    {
      "cell_type": "markdown",
      "source": [
        "Returns the parameters of the pipeline."
      ],
      "metadata": {
        "id": "Ha71A3mc6Lf9"
      },
      "id": "Ha71A3mc6Lf9"
    },
    {
      "cell_type": "code",
      "execution_count": 20,
      "metadata": {
        "id": "8VRdNdJxRflW",
        "colab": {
          "base_uri": "https://localhost:8080/"
        },
        "outputId": "496bc071-a79e-4924-be6d-2d07872e8387"
      },
      "outputs": [
        {
          "output_type": "execute_result",
          "data": {
            "text/plain": [
              "dict_keys(['memory', 'steps', 'verbose', 'imputer', 'scaler', 'stk_model', 'imputer__n_jobs', 'imputer__remainder', 'imputer__sparse_threshold', 'imputer__transformer_weights', 'imputer__transformers', 'imputer__verbose', 'imputer__verbose_feature_names_out', 'imputer__imputer', 'imputer__imputer__add_indicator', 'imputer__imputer__copy', 'imputer__imputer__fill_value', 'imputer__imputer__keep_empty_features', 'imputer__imputer__missing_values', 'imputer__imputer__strategy', 'imputer__imputer__verbose', 'scaler__n_jobs', 'scaler__remainder', 'scaler__sparse_threshold', 'scaler__transformer_weights', 'scaler__transformers', 'scaler__verbose', 'scaler__verbose_feature_names_out', 'scaler__scaler', 'scaler__scaler__clip', 'scaler__scaler__copy', 'scaler__scaler__feature_range', 'stk_model__cv', 'stk_model__estimators', 'stk_model__final_estimator__copy_X', 'stk_model__final_estimator__fit_intercept', 'stk_model__final_estimator__n_jobs', 'stk_model__final_estimator__positive', 'stk_model__final_estimator', 'stk_model__n_jobs', 'stk_model__passthrough', 'stk_model__verbose', 'stk_model__rf', 'stk_model__svr', 'stk_model__gb', 'stk_model__rf__bootstrap', 'stk_model__rf__ccp_alpha', 'stk_model__rf__criterion', 'stk_model__rf__max_depth', 'stk_model__rf__max_features', 'stk_model__rf__max_leaf_nodes', 'stk_model__rf__max_samples', 'stk_model__rf__min_impurity_decrease', 'stk_model__rf__min_samples_leaf', 'stk_model__rf__min_samples_split', 'stk_model__rf__min_weight_fraction_leaf', 'stk_model__rf__n_estimators', 'stk_model__rf__n_jobs', 'stk_model__rf__oob_score', 'stk_model__rf__random_state', 'stk_model__rf__verbose', 'stk_model__rf__warm_start', 'stk_model__svr__C', 'stk_model__svr__cache_size', 'stk_model__svr__coef0', 'stk_model__svr__degree', 'stk_model__svr__epsilon', 'stk_model__svr__gamma', 'stk_model__svr__kernel', 'stk_model__svr__max_iter', 'stk_model__svr__shrinking', 'stk_model__svr__tol', 'stk_model__svr__verbose', 'stk_model__gb__alpha', 'stk_model__gb__ccp_alpha', 'stk_model__gb__criterion', 'stk_model__gb__init', 'stk_model__gb__learning_rate', 'stk_model__gb__loss', 'stk_model__gb__max_depth', 'stk_model__gb__max_features', 'stk_model__gb__max_leaf_nodes', 'stk_model__gb__min_impurity_decrease', 'stk_model__gb__min_samples_leaf', 'stk_model__gb__min_samples_split', 'stk_model__gb__min_weight_fraction_leaf', 'stk_model__gb__n_estimators', 'stk_model__gb__n_iter_no_change', 'stk_model__gb__random_state', 'stk_model__gb__subsample', 'stk_model__gb__tol', 'stk_model__gb__validation_fraction', 'stk_model__gb__verbose', 'stk_model__gb__warm_start'])"
            ]
          },
          "metadata": {},
          "execution_count": 20
        }
      ],
      "source": [
        "pipe.get_params().keys()"
      ],
      "id": "8VRdNdJxRflW"
    },
    {
      "cell_type": "code",
      "execution_count": 21,
      "metadata": {
        "id": "MvhaN3eTRfih"
      },
      "outputs": [],
      "source": [
        "search = GridSearchCV(pipe, param_grid, n_jobs=-1, verbose=12)"
      ],
      "id": "MvhaN3eTRfih"
    },
    {
      "cell_type": "markdown",
      "source": [
        "Fits the GridSearchCV to the training data to perform cross-validation on the hyperparameters and selects the best set of hyperparameters as mentioned above."
      ],
      "metadata": {
        "id": "1P3klein6OvT"
      },
      "id": "1P3klein6OvT"
    },
    {
      "cell_type": "code",
      "execution_count": 22,
      "metadata": {
        "colab": {
          "base_uri": "https://localhost:8080/"
        },
        "id": "pvulkR1rRffk",
        "outputId": "592ff6fb-4165-4a7e-aa81-f2a150d76d4f"
      },
      "outputs": [
        {
          "output_type": "stream",
          "name": "stdout",
          "text": [
            "Fitting 5 folds for each of 54 candidates, totalling 270 fits\n"
          ]
        }
      ],
      "source": [
        "search = search.fit(game_x, game_y)"
      ],
      "id": "pvulkR1rRffk"
    },
    {
      "cell_type": "markdown",
      "source": [
        "Returns the best score based on the GridSearch Cross Validation"
      ],
      "metadata": {
        "id": "Tb2y5pxG66Vj"
      },
      "id": "Tb2y5pxG66Vj"
    },
    {
      "cell_type": "code",
      "execution_count": 23,
      "metadata": {
        "id": "2wUN3W5eRfcz",
        "colab": {
          "base_uri": "https://localhost:8080/"
        },
        "outputId": "5a146735-032b-4bda-8235-47619e62243d"
      },
      "outputs": [
        {
          "output_type": "execute_result",
          "data": {
            "text/plain": [
              "0.9685903845909367"
            ]
          },
          "metadata": {},
          "execution_count": 23
        }
      ],
      "source": [
        "search.best_score_ #shows the gridsearch best score using the best parameters for the predicting model."
      ],
      "id": "2wUN3W5eRfcz"
    },
    {
      "cell_type": "markdown",
      "source": [
        "above result is almost similar to what we get initially through regressor model. Shows that model is in great working condition."
      ],
      "metadata": {
        "id": "KCeotPIqWgl7"
      },
      "id": "KCeotPIqWgl7"
    },
    {
      "cell_type": "markdown",
      "metadata": {
        "id": "Jn0OfL6vIdSs"
      },
      "source": [
        "Returns the best parameters based on Grid search Evaluation. Below are the best parameters for given elements. It takes around 1 hour to run the code: search = search.fit(game_x, game_y)\n",
        "\n",
        "#####'stk_model__gb__learning_rate': 0.1\n",
        "#####'imputer__imputer__strategy': 'mean'\n",
        "#####'stk_model__gb__n_estimators': 150\n",
        "#####'stk_model__rf__n_estimators': 100"
      ],
      "id": "Jn0OfL6vIdSs"
    },
    {
      "cell_type": "code",
      "execution_count": 24,
      "metadata": {
        "id": "6dEBaiUDRfZ4",
        "colab": {
          "base_uri": "https://localhost:8080/"
        },
        "outputId": "a6afccad-9a11-48bd-cff4-92a468dd1b00"
      },
      "outputs": [
        {
          "output_type": "execute_result",
          "data": {
            "text/plain": [
              "{'imputer__imputer__strategy': 'mean',\n",
              " 'stk_model__gb__learning_rate': 0.1,\n",
              " 'stk_model__gb__n_estimators': 150,\n",
              " 'stk_model__rf__n_estimators': 100}"
            ]
          },
          "metadata": {},
          "execution_count": 24
        }
      ],
      "source": [
        "search.best_params_ #getting the best parameters analysed after running gridsearch code."
      ],
      "id": "6dEBaiUDRfZ4"
    },
    {
      "cell_type": "markdown",
      "source": [
        "Data is again collected and cleaned to perform Model Hyperparameter tuning using GridSearch CV"
      ],
      "metadata": {
        "id": "ywadYXfC7uCt"
      },
      "id": "ywadYXfC7uCt"
    },
    {
      "cell_type": "code",
      "execution_count": 25,
      "metadata": {
        "id": "mN4nr7tqRfWv"
      },
      "outputs": [],
      "source": [
        "game_test = pd.read_csv('War.csv')\n",
        "game_test = game_test.drop(columns=['ID','Mechanics','Name','Domains','YearPublished'])"
      ],
      "id": "mN4nr7tqRfWv"
    },
    {
      "cell_type": "code",
      "source": [
        "game_test['ComplexityAverage'] = game_test['ComplexityAverage'].str.replace(',', '').astype(float).round().astype(int) #Replaces comma separated values with nothing, converts to float type, rounds it off, and then converts it back to integer type."
      ],
      "metadata": {
        "id": "xzRiZsscIOxB"
      },
      "id": "xzRiZsscIOxB",
      "execution_count": 26,
      "outputs": []
    },
    {
      "cell_type": "code",
      "source": [
        "game_test['RatingAverage'] = pd.to_numeric(game_test['RatingAverage'].str.replace(',', '.'), errors='coerce') #Replaces comma separator with a period and then converts it to numeric data type. If any error occurs, it is coerced (converted) to NaN."
      ],
      "metadata": {
        "id": "uwaERquJIUGY"
      },
      "id": "uwaERquJIUGY",
      "execution_count": 27,
      "outputs": []
    },
    {
      "cell_type": "code",
      "execution_count": 28,
      "metadata": {
        "id": "Ai_1sBXPRfT4",
        "colab": {
          "base_uri": "https://localhost:8080/"
        },
        "outputId": "c63c3426-9803-4e06-c930-ada41348f7ee"
      },
      "outputs": [
        {
          "output_type": "execute_result",
          "data": {
            "text/plain": [
              "MinPlayers             0\n",
              "MaxPlayers             0\n",
              "PlayTime              17\n",
              "MinAge                 0\n",
              "UsersRated             0\n",
              "RatingAverage        229\n",
              "BGGRank                0\n",
              "ComplexityAverage      0\n",
              "OwnedUsers             0\n",
              "dtype: int64"
            ]
          },
          "metadata": {},
          "execution_count": 28
        }
      ],
      "source": [
        "game_test.isnull().sum() #to check what columns have NaN values, and whether we are working with the correct number of columns or not."
      ],
      "id": "Ai_1sBXPRfT4"
    },
    {
      "cell_type": "markdown",
      "source": [
        "BGG ranking Prediction is done using GridSearch Cross Validation method and is stored in a result.csv file"
      ],
      "metadata": {
        "id": "tgNTPLNI8olb"
      },
      "id": "tgNTPLNI8olb"
    },
    {
      "cell_type": "code",
      "execution_count": 29,
      "metadata": {
        "id": "rrbn4-JbRfQt",
        "colab": {
          "base_uri": "https://localhost:8080/"
        },
        "outputId": "94f6cb05-aca0-45d7-f362-cd5c50b12784"
      },
      "outputs": [
        {
          "output_type": "stream",
          "name": "stdout",
          "text": [
            "[ 7159.37549058 19045.51623964 17537.42660589 ...  6484.48505239\n",
            "  1794.42297608 10325.59605904]\n"
          ]
        }
      ],
      "source": [
        "pred = search.predict(game_test)\n",
        "print(pred) #predicting the result using grid search and printing the values to confirm whether the is working correctly or not."
      ],
      "id": "rrbn4-JbRfQt"
    },
    {
      "cell_type": "code",
      "execution_count": 30,
      "metadata": {
        "id": "mHLpu4O9RfOF"
      },
      "outputs": [],
      "source": [
        "np.savetxt(\"result.csv\", pred, delimiter=\",\") #saving results in a result.csv file"
      ],
      "id": "mHLpu4O9RfOF"
    },
    {
      "cell_type": "markdown",
      "source": [
        "##7. Business Deployment\n",
        "\n",
        "The trained machine learning model, which predicts the BoardGameGeek (BGG) ranking of games based on various features such as MinPlayers, MaxPlayers, Playtime, UsersRated, ComplexityAverage and so on, can be integrated into a software application. The purpose of using the machine learning model is to analyze the BGG ranking of future games before development.\n",
        "\n",
        "By using the integrated machine learning model, the company can understand whether developing the new game will be profitable for the company or not. For example, if the BGG Ranking score is above 7 points, the game is more likely to thrive in market and provide good profit to the company, than the games with just a single or couple points result, i.e. - 1-2 points."
      ],
      "metadata": {
        "id": "D1T0IEIi8-Yr"
      },
      "id": "D1T0IEIi8-Yr"
    }
  ],
  "metadata": {
    "colab": {
      "provenance": []
    },
    "kernelspec": {
      "display_name": "Python 3",
      "language": "python",
      "name": "python3"
    },
    "language_info": {
      "codemirror_mode": {
        "name": "ipython",
        "version": 3
      },
      "file_extension": ".py",
      "mimetype": "text/x-python",
      "name": "python",
      "nbconvert_exporter": "python",
      "pygments_lexer": "ipython3",
      "version": "3.6.5"
    }
  },
  "nbformat": 4,
  "nbformat_minor": 5
}